{
 "cells": [
  {
   "cell_type": "markdown",
   "metadata": {},
   "source": [
    "     \n",
    "<img src=\"https://upload.wikimedia.org/wikipedia/commons/d/db/Logo_ITESO_normal.jpg\" alt=\"Smiley face\" height=\"210\" width=\"210\">\n",
    "\n",
    "\n",
    "## ISRAEL CASTILLO HERRERA\n",
    "## IF708348"
   ]
  },
  {
   "cell_type": "markdown",
   "metadata": {},
   "source": [
    ">## <font color ='red'> **Tarea** \n",
    ">El tiempo en el cual un movimiento browniano se mantiene sobre su punto máximo en el intervalo [0,1] tiene una distribución\n",
    ">$$F(x)=\\frac{2}{\\pi}\\sin^{-1}(\\sqrt x),\\quad 0\\leq x\\leq 1$$ </font>\n",
    "Genere muestres aleatorias que distribuyan según la función dada usando el método de la transformada inversa y grafique en una gráfica el historias 100 muestras generadas y comparela con la función de densidad de probabilidad  $f(x)$, esto con el fín de validar que el procedimiento fue realizado de manera correcta. Ver el procedimiento ilustrado en las figuras anteriores"
   ]
  },
  {
   "cell_type": "code",
   "execution_count": 3,
   "metadata": {},
   "outputs": [],
   "source": [
    "import numpy as np\n",
    "import matplotlib.pyplot as plt"
   ]
  },
  {
   "cell_type": "code",
   "execution_count": 4,
   "metadata": {},
   "outputs": [
    {
     "data": {
      "image/png": "[encoded data removed]",
      "text/plain": [
       "<Figure size 432x288 with 1 Axes>"
      ]
     },
     "metadata": {
      "needs_background": "light"
     },
     "output_type": "display_data"
    }
   ],
   "source": [
    "\n",
    "\n",
    "N = 10**6\n",
    "def d_fun(N):\n",
    "    U= np.random.rand(N)\n",
    "    return np.sin(np.pi*U/2)**2\n",
    "\n",
    "f = lambda x: 1/(np.pi*np.sqrt(x)*np.sqrt(1-x))\n",
    "x = np.arange(.1,.99,.01)\n",
    "\n",
    "d = d_fun(N)\n",
    "\n",
    "plt.plot(x,f(x))\n",
    "plt.hist(d, bins=100, density=True)\n",
    "plt.show()"
   ]
  },
  {
   "cell_type": "markdown",
   "metadata": {},
   "source": [
    "\n",
    "La distribución binomial modela el número de éxitos de n ensayos independientes donde hay una probabilidad p de éxito en cada ensayo.\n",
    "\n",
    "Generar una variable aletoria binomial con parámetros $n=10$ y $p=0.7$. Recordar que\n",
    "$$X\\sim binomial(n,p) \\longrightarrow p_i=P(X=i)=\\frac{n!}{i!(n-i)!}p^i(1-p)^{n-i},\\quad i=0,1,\\cdots,n$$\n",
    "> ## <font color ='red'>Tarea: Demostrar la validez de la siguiente ecuación\n",
    ">$$p_{i+1}=\\frac{n-i}{i+1}\\frac{p}{1-p} p_i \\longrightarrow \\text{Hablar de las ventajas que sea recursiva}$$"
   ]
  },
  {
   "cell_type": "markdown",
   "metadata": {},
   "source": [
    "$$Demostración$$\n",
    "\\\n",
    "$$X\\sim binomial(n,p) \\longrightarrow p_i=P(X=i)=\\frac{n!}{i!(n-i)!}p^i(1-p)^{n-i},\\quad i=0,1,\\cdots,n$$\n",
    "\\\n",
    "$$P(i+1) = \\frac{n!}{(i+1)!(n-i-1)!} \\cdot p^{i+1}(1-p)^{n-i-1}$$\n",
    "\\\n",
    "$$ = \\frac{n!\\ p^{i+1}\\ (1-p)^{n-i-1}}{(i+1)!\\ (n-i-1)!}$$\n",
    "\\\n",
    "$$ = \\frac{n!\\ p^{i}\\ \\cdot p\\ (1-p)^{-1}\\ (1-p)^{n-i}}{(i+1)!\\ (n-i-1)!}$$\n",
    "\\\n",
    "$$Resolvemos\\ algunos\\ de\\ los\\ factoriales$$\n",
    "\\\n",
    "$$ = \\frac{n!\\ p^{i} \\cdot \\ p\\ \\cdot (1-p)^{-1}\\ (1-p)^{n-i}}{(i+1)\\ (i+1-1)!\\ (n-i-1)!}$$\n",
    "\\\n",
    "$$Ordenamos$$\n",
    "\\\n",
    "$$ = \\frac{n!\\ p\\ \\cdot p^{i}\\ (1-p)^{n-i}}{(i+1)\\ (i+1-1)!\\ (n-i-1)!\\ (1-p)}$$\n",
    "\\\n",
    "$$Donde$$\n",
    "$$(n-i)! = (n-i)(n-i-1)!$$\n",
    "\\\n",
    "$$(n-i-1)! = \\frac{(n-i)!}{(n-i)}$$\n",
    "\\\n",
    "$$Entonces$$\n",
    "\\\n",
    "$$ = \\frac{n!\\ p\\ \\cdot p^{i}\\ (1-p)^{n-i}\\ (n-i)}{(i+1)\\ (i+1-1)!\\ (n-i)!\\ (1-p)}$$\n",
    "\\\n",
    "$$Ordenamos$$\n",
    "\\\n",
    "$$ =  \\frac{p\\ \\cdot (n-i)}{(i+1)\\ (1-p)} \\cdot \\frac{n! \\cdot p^{i}\\ (1-p)^{n-i}}{i!\\ (n-i)!} $$\n",
    "\\\n",
    "$$ P_{i+1}=  \\frac{(n-i) \\cdot p }{(i+1)\\ (1-p)} \\cdot p_{i} $$"
   ]
  },
  {
   "cell_type": "markdown",
   "metadata": {},
   "source": [
    "**El Algoritmo que debemos realizar:**\n",
    "   1. Generar $U$.\n",
    "   2. Si $U<p_0$, poner $X=0$ y detenerse.\n",
    "   3. Si $p_0<U<p_0+p_1$, poner $X=1$ y detenerse.\n",
    "   $$ \\vdots$$\n",
    "   4. Si $p_0+\\cdots+p_{n-1}<U<p_0+\\cdots+p_{n}$, poner $X=n$ y detenerse."
   ]
  },
  {
   "cell_type": "markdown",
   "metadata": {},
   "source": [
    "> ## <font color ='red'>Tarea\n",
    "Seguir un procedimiento similar al mostrado cuando se generó una distribución binomial, pero en esta caso genere un código que genere variables aletorias Poisson cuya función de distribución de probabilidad esta dada por:\n",
    ">$$P(k,\\lambda)=\\frac{e^{-\\lambda}(\\lambda)^k}{k!}$$\n",
    "    \n",
    "> Demuestre matemáticamente que \n",
    "> $$P(k+1)=\\frac{\\lambda}{k+1}P(k)$$\n",
    "> y a partir de esta relación genere variables aletorias que distribuyen poisson.\n",
    "\n",
    "Enlace: https://es.wikipedia.org/wiki/Distribuci%C3%B3n_de_Poisson"
   ]
  },
  {
   "cell_type": "markdown",
   "metadata": {},
   "source": [
    "$$Demostración$$\n",
    "\\\n",
    "$$P(k, \\lambda) = \\frac{e^{-\\lambda}\\lambda^{k}}{k!} = P(k)$$\n",
    "\\\n",
    "$$Donde$$ \n",
    "\\\n",
    "$$k! = k \\cdot (k-1)! $$\n",
    "\n",
    "\\\n",
    "$$P(k+1) = \\frac{e^{-\\lambda} \\lambda^{k+1}}{(k+1)(k-1+1)!}$$\n",
    "\n",
    "\\\n",
    "$$ = \\frac{e^{-\\lambda}\\lambda^{k}\\cdot\\lambda}{(k+1)\\cdot k!}$$\n",
    "\\\n",
    "$$Reordenamos$$\n",
    "\\\n",
    "$$ P(k+1) = \\frac{\\lambda}{(k+1)} \\cdot \\frac{e^{-\\lambda}\\lambda^{k}}{k!}$$\n",
    "\n",
    "\n",
    "\\\n",
    "$$ P(k+1) = \\frac{\\lambda}{(k+1)} P(k)$$"
   ]
  },
  {
   "cell_type": "code",
   "execution_count": 35,
   "metadata": {},
   "outputs": [
    {
     "data": {
      "text/plain": [
       "<matplotlib.legend.Legend at 0x118e9deb8>"
      ]
     },
     "execution_count": 35,
     "metadata": {},
     "output_type": "execute_result"
    },
    {
     "data": {
      "image/png": "[encoded data removed]",
      "text/plain": [
       "<Figure size 432x288 with 1 Axes>"
      ]
     },
     "metadata": {
      "needs_background": "light"
     },
     "output_type": "display_data"
    }
   ],
   "source": [
    "# Función que calcula la probabilidad acumulada optimizada\n",
    "def Poisson(l,k):\n",
    "    global Pr\n",
    "    Pr = np.zeros(k)\n",
    "    Pr[0] = np.exp(-l)\n",
    "    def pr(i):\n",
    "        global Pr\n",
    "        Pr[i+1]= l/(i+1) * Pr[i]\n",
    "    # Lleno el vector Pr usando compresión de listas\n",
    "    [pr(i) for i in range(k-1)]\n",
    "    return np.cumsum(Pr)\n",
    "\n",
    "\n",
    "l = 3\n",
    "k = 10\n",
    "n=10000\n",
    "\n",
    "p_acum = Poisson(l,k)\n",
    "u = np.random.rand(n)\n",
    "d_poisson = list(map(lambda j:sum(1 for i in p_acum if i<u[j]),range(n)))\n",
    "\n",
    "# Gráfica de resultados\n",
    "plt.hist(d_poisson,100,density=True,label='Usando función creada')\n",
    "plt.legend()\n"
   ]
  },
  {
   "cell_type": "code",
   "execution_count": 33,
   "metadata": {},
   "outputs": [
    {
     "data": {
      "text/plain": [
       "<matplotlib.legend.Legend at 0x118d96ef0>"
      ]
     },
     "execution_count": 33,
     "metadata": {},
     "output_type": "execute_result"
    },
    {
     "data": {
      "image/png": "[encoded data removed]",
      "text/plain": [
       "<Figure size 432x288 with 1 Axes>"
      ]
     },
     "metadata": {
      "needs_background": "light"
     },
     "output_type": "display_data"
    }
   ],
   "source": [
    "plt.plot(p_acum, \"o\",label=\"Acumulada\")\n",
    "plt.legend()"
   ]
  },
  {
   "cell_type": "code",
   "execution_count": 23,
   "metadata": {},
   "outputs": [
    {
     "data": {
      "image/png": "[encoded data removed]",
      "text/plain": [
       "<Figure size 432x288 with 1 Axes>"
      ]
     },
     "metadata": {
      "needs_background": "light"
     },
     "output_type": "display_data"
    }
   ],
   "source": [
    "d_Pos_numpy = np.random.poisson(lam=l,size = n)\n",
    "plt.hist(d_Pos_numpy,100,density=True,label='Usando Numpy')\n",
    "plt.legend()\n",
    "np.histogram\n",
    "plt.show()"
   ]
  },
  {
   "cell_type": "code",
   "execution_count": null,
   "metadata": {},
   "outputs": [],
   "source": []
  }
 ],
 "metadata": {
  "kernelspec": {
   "display_name": "Python 3",
   "language": "python",
   "name": "python3"
  },
  "language_info": {
   "codemirror_mode": {
    "name": "ipython",
    "version": 3
   },
   "file_extension": ".py",
   "mimetype": "text/x-python",
   "name": "python",
   "nbconvert_exporter": "python",
   "pygments_lexer": "ipython3",
   "version": "3.7.6"
  }
 },
 "nbformat": 4,
 "nbformat_minor": 2
}
