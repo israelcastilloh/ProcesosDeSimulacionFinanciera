{
 "cells": [
  {
   "cell_type": "markdown",
   "metadata": {},
   "source": [
    "\n",
    "     \n",
    "<img src=\"https://upload.wikimedia.org/wikipedia/commons/d/db/Logo_ITESO_normal.jpg\" alt=\"Smiley face\" height=\"210\" width=\"210\">"
   ]
  },
  {
   "cell_type": "markdown",
   "metadata": {},
   "source": [
    "## ISRAEL CASTILLO HERRERA\n",
    "## IF708348"
   ]
  },
  {
   "cell_type": "markdown",
   "metadata": {},
   "source": [
    ">## <font color = 'red'> Tarea\n",
    ">1.Suponer que $T$ distribuye beta donde la media es $\\mu_p$ y varianza $\\sigma_p^2$ y responder cual es la probabilidad $P(T\\leq d)$.\n",
    "    ![imagen.png](attachment:imagen.png)\n",
    "\n",
    "> **Ayuda**: - Aprender a utlizar el solucionador de ecuaciones no lineales https://stackoverflow.com/questions/19843116/passing-arguments-to-fsolve\n",
    "- Leer el help de fsolve\n",
    "\n",
    ">2.Suponer que $T$ distribuye triangular donde el valor mas probable es $\\mu_p$ el valor pesimista es $p=49$ y el valor optimista es $o=40$ y responder cual es la probabilidad $P(T\\leq d)$.\n",
    "\n",
    "\n",
    "> **Nota:** en el archivo PDF que les puse al principio de esta clase, hay una posible solución que les puede ayudar a la hora de hacer su suposiciones y su programación.\n",
    "\n",
    "## Parámetros de entrega\n",
    "Se habilitará un enlace en Canvas donde deben de subir su cuaderno de python con la solución dada. La fecha límite de recepción será el jueves 10 de octubre a las 11:55 pm."
   ]
  },
  {
   "cell_type": "code",
   "execution_count": 2,
   "metadata": {},
   "outputs": [],
   "source": [
    "# Importamos librerías a trabajar en todas las simulaciones\n",
    "import matplotlib.pyplot as plt\n",
    "import numpy as np\n",
    "import scipy.stats as st     # Librería estadística\n",
    "from math import factorial as fac # Importo la operación factorial\n",
    "from scipy.special import comb # Importamos la función combinatoria\n",
    "from scipy.optimize import fsolve\n",
    "%matplotlib inline"
   ]
  },
  {
   "cell_type": "code",
   "execution_count": 3,
   "metadata": {},
   "outputs": [],
   "source": [
    "######### BETA ################\n",
    "def terminalV(Z):\n",
    "    alp,beta=Z\n",
    "    return (((a*beta + b*alp) / (alp+beta) )- 44, ((alp*beta*(b-a)**2)/((alp+beta)**2 * (1+alp+beta)))-9)\n",
    "\n",
    "a=16;b=70\n",
    "alp, beta = fsolve(terminalV, (1,1))"
   ]
  },
  {
   "cell_type": "code",
   "execution_count": 4,
   "metadata": {},
   "outputs": [
    {
     "data": {
      "text/plain": [
       "(41.42386831275946, 38.4650205761306)"
      ]
     },
     "execution_count": 4,
     "metadata": {},
     "output_type": "execute_result"
    }
   ],
   "source": [
    "alp,beta"
   ]
  },
  {
   "cell_type": "code",
   "execution_count": 5,
   "metadata": {},
   "outputs": [
    {
     "name": "stdout",
     "output_type": "stream",
     "text": [
      "P(T<=d)= 0.8398345635004718\n"
     ]
    }
   ],
   "source": [
    "d = 47\n",
    "P = st.beta.cdf(d, alp, beta, loc = 16, scale = b-a)\n",
    "print('P(T<=d)=',P)\n"
   ]
  },
  {
   "cell_type": "code",
   "execution_count": 9,
   "metadata": {},
   "outputs": [
    {
     "name": "stdout",
     "output_type": "stream",
     "text": [
      "P(T<=d)= 0.9111111111111111\n"
     ]
    }
   ],
   "source": [
    "######### TRIANG ################\n",
    "d=47\n",
    "right=49\n",
    "left=40\n",
    "mode=44\n",
    "\n",
    "c = (mode - left) / (right - left)\n",
    "loc = left\n",
    "scale = right - left\n",
    "\n",
    "P = st.triang.cdf(d, c, loc=loc, scale=scale)\n",
    "\n",
    "print('P(T<=d)=',P)\n"
   ]
  },
  {
   "cell_type": "code",
   "execution_count": null,
   "metadata": {},
   "outputs": [],
   "source": []
  },
  {
   "cell_type": "code",
   "execution_count": null,
   "metadata": {},
   "outputs": [],
   "source": []
  },
  {
   "cell_type": "code",
   "execution_count": null,
   "metadata": {},
   "outputs": [],
   "source": []
  }
 ],
 "metadata": {
  "kernelspec": {
   "display_name": "Python 3",
   "language": "python",
   "name": "python3"
  },
  "language_info": {
   "codemirror_mode": {
    "name": "ipython",
    "version": 3
   },
   "file_extension": ".py",
   "mimetype": "text/x-python",
   "name": "python",
   "nbconvert_exporter": "python",
   "pygments_lexer": "ipython3",
   "version": "3.7.1"
  }
 },
 "nbformat": 4,
 "nbformat_minor": 2
}
